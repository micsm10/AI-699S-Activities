{
 "cells": [
  {
   "cell_type": "markdown",
   "id": "5190b54c-d49c-4d6f-80cc-22555336a9cd",
   "metadata": {},
   "source": [
    "# Week 2 - Preprocessing, part 2\n",
    "\n",
    "# 1. Lesson: None"
   ]
  },
  {
   "cell_type": "markdown",
   "id": "47c4e5ff-b05f-4ef2-96f1-49dcb5beb158",
   "metadata": {},
   "source": [
    "# 2. Weekly graph question"
   ]
  },
  {
   "cell_type": "markdown",
   "id": "aad37e29-6e84-41fa-886d-abc1312213ab",
   "metadata": {},
   "source": [
    "The Storytelling With Data book mentions planning on a \"Who, What, and How\" for your data story.  Write down a possible Who, What, and How for your data, using the ideas in the book."
   ]
  },
  {
   "cell_type": "code",
   "execution_count": 11,
   "id": "c862fc32-1297-4587-b9da-4b0642ab3e6e",
   "metadata": {},
   "outputs": [],
   "source": [
    "WHO = 'policy makers, energy analysts, and environmental researchers'\n",
    "WHAT = 'analyze global trends in nuclear energy generation and its role in the energy mix over time'\n",
    "HOW = 'data acquisition, data analysis, and effective visualizations'"
   ]
  },
  {
   "cell_type": "markdown",
   "id": "898eb327-aefd-4ac0-b95a-92b616a2181b",
   "metadata": {},
   "source": [
    "# 3. Homework - work with your own data"
   ]
  },
  {
   "cell_type": "code",
   "execution_count": 12,
   "id": "fe925521-979f-4983-8d85-8db8d1316e99",
   "metadata": {},
   "outputs": [],
   "source": [
    "import pandas as pd\n",
    "import numpy as np\n",
    "from datetime import datetime, timedelta\n",
    "import matplotlib.pyplot as plt"
   ]
  },
  {
   "cell_type": "code",
   "execution_count": 13,
   "id": "f9166d03",
   "metadata": {},
   "outputs": [
    {
     "name": "stdout",
     "output_type": "stream",
     "text": [
      "   Year     Month Nuclear Generating Units, Total Operable Units  \\\n",
      "0  1973   January                                  Not Available   \n",
      "1  1973  February                                  Not Available   \n",
      "2  1973     March                                  Not Available   \n",
      "3  1973     April                                  Not Available   \n",
      "4  1973       May                                  Not Available   \n",
      "\n",
      "   Nuclear Generating Units, Net Summer Capacity  \\\n",
      "0                                         14.533   \n",
      "1                                         14.533   \n",
      "2                                         15.314   \n",
      "3                                         15.314   \n",
      "4                                         16.174   \n",
      "\n",
      "   Nuclear Electricity Net Generation  \\\n",
      "0                                6246   \n",
      "1                                5928   \n",
      "2                                6649   \n",
      "3                                5876   \n",
      "4                                5697   \n",
      "\n",
      "   Nuclear Share of Electricity Net Generation  \\\n",
      "0                                          3.9   \n",
      "1                                          4.1   \n",
      "2                                          4.5   \n",
      "3                                          4.2   \n",
      "4                                          3.9   \n",
      "\n",
      "   Nuclear Generating Units, Capacity Factor  \n",
      "0                                       57.8  \n",
      "1                                       60.7  \n",
      "2                                       58.4  \n",
      "3                                       53.4  \n",
      "4                                       47.3  \n"
     ]
    }
   ],
   "source": [
    "df = pd.read_csv(\"nuclear-energy-overview.csv\")\n",
    "\n",
    "print(df.head())"
   ]
  },
  {
   "cell_type": "markdown",
   "id": "14836788-b235-4cd4-b94d-5f749c6141a8",
   "metadata": {},
   "source": [
    "This week, you will do the same types of exercises as last week, but you should use your chosen datasets that someone in your class found last semester. (They likely will not be the particular datasets that you found yourself.)\n",
    "\n",
    "### Here are some types of analysis you can do  Use Google, documentation, and ChatGPT to help you:\n",
    "\n",
    "- Summarize the datasets using info() and describe()\n",
    "\n",
    "- Are there any duplicate rows?\n",
    "\n",
    "- Are there any duplicate values in a given column (when this would be inappropriate?)\n",
    "\n",
    "- What are the mean, median, and mode of each column?\n",
    "\n",
    "- Are there any missing or null values?\n",
    "\n",
    "    - Do you want to fill in the missing value with a mean value?  A value of your choice?  Remove that row?\n",
    "\n",
    "- Identify any other inconsistent data (e.g. someone seems to be taking an action before they are born.)\n",
    "\n",
    "- Encode any categorical variables (e.g. with one-hot encoding.)\n",
    "\n",
    "### Conclusions:\n",
    "\n",
    "- Are the data usable?  If not, find some new data!\n",
    "\n",
    "- Do you need to modify or correct the data in some way?\n",
    "\n",
    "- Is there any class imbalance?  (Categories that have many more items than other categories)."
   ]
  },
  {
   "cell_type": "code",
   "execution_count": 14,
   "id": "3678e6c9",
   "metadata": {},
   "outputs": [
    {
     "name": "stdout",
     "output_type": "stream",
     "text": [
      "<class 'pandas.core.frame.DataFrame'>\n",
      "RangeIndex: 614 entries, 0 to 613\n",
      "Data columns (total 7 columns):\n",
      " #   Column                                          Non-Null Count  Dtype  \n",
      "---  ------                                          --------------  -----  \n",
      " 0   Year                                            614 non-null    int64  \n",
      " 1   Month                                           614 non-null    object \n",
      " 2   Nuclear Generating Units, Total Operable Units  614 non-null    object \n",
      " 3   Nuclear Generating Units, Net Summer Capacity   614 non-null    float64\n",
      " 4   Nuclear Electricity Net Generation              614 non-null    int64  \n",
      " 5   Nuclear Share of Electricity Net Generation     614 non-null    float64\n",
      " 6   Nuclear Generating Units, Capacity Factor       614 non-null    float64\n",
      "dtypes: float64(3), int64(2), object(2)\n",
      "memory usage: 33.7+ KB\n"
     ]
    },
    {
     "data": {
      "text/html": [
       "<div>\n",
       "<style scoped>\n",
       "    .dataframe tbody tr th:only-of-type {\n",
       "        vertical-align: middle;\n",
       "    }\n",
       "\n",
       "    .dataframe tbody tr th {\n",
       "        vertical-align: top;\n",
       "    }\n",
       "\n",
       "    .dataframe thead th {\n",
       "        text-align: right;\n",
       "    }\n",
       "</style>\n",
       "<table border=\"1\" class=\"dataframe\">\n",
       "  <thead>\n",
       "    <tr style=\"text-align: right;\">\n",
       "      <th></th>\n",
       "      <th>Year</th>\n",
       "      <th>Nuclear Generating Units, Net Summer Capacity</th>\n",
       "      <th>Nuclear Electricity Net Generation</th>\n",
       "      <th>Nuclear Share of Electricity Net Generation</th>\n",
       "      <th>Nuclear Generating Units, Capacity Factor</th>\n",
       "    </tr>\n",
       "  </thead>\n",
       "  <tbody>\n",
       "    <tr>\n",
       "      <th>count</th>\n",
       "      <td>614.000000</td>\n",
       "      <td>614.000000</td>\n",
       "      <td>614.000000</td>\n",
       "      <td>614.000000</td>\n",
       "      <td>614.000000</td>\n",
       "    </tr>\n",
       "    <tr>\n",
       "      <th>mean</th>\n",
       "      <td>1998.084691</td>\n",
       "      <td>85.607122</td>\n",
       "      <td>49806.475570</td>\n",
       "      <td>17.216612</td>\n",
       "      <td>76.496254</td>\n",
       "    </tr>\n",
       "    <tr>\n",
       "      <th>std</th>\n",
       "      <td>14.782137</td>\n",
       "      <td>23.286221</td>\n",
       "      <td>19647.098419</td>\n",
       "      <td>4.175843</td>\n",
       "      <td>16.281111</td>\n",
       "    </tr>\n",
       "    <tr>\n",
       "      <th>min</th>\n",
       "      <td>1973.000000</td>\n",
       "      <td>14.533000</td>\n",
       "      <td>5697.000000</td>\n",
       "      <td>3.900000</td>\n",
       "      <td>34.600000</td>\n",
       "    </tr>\n",
       "    <tr>\n",
       "      <th>25%</th>\n",
       "      <td>1985.000000</td>\n",
       "      <td>78.707750</td>\n",
       "      <td>31481.500000</td>\n",
       "      <td>15.525000</td>\n",
       "      <td>61.025000</td>\n",
       "    </tr>\n",
       "    <tr>\n",
       "      <th>50%</th>\n",
       "      <td>1998.000000</td>\n",
       "      <td>98.533000</td>\n",
       "      <td>57362.000000</td>\n",
       "      <td>18.800000</td>\n",
       "      <td>79.150000</td>\n",
       "    </tr>\n",
       "    <tr>\n",
       "      <th>75%</th>\n",
       "      <td>2011.000000</td>\n",
       "      <td>99.628000</td>\n",
       "      <td>65169.250000</td>\n",
       "      <td>20.100000</td>\n",
       "      <td>91.875000</td>\n",
       "    </tr>\n",
       "    <tr>\n",
       "      <th>max</th>\n",
       "      <td>2024.000000</td>\n",
       "      <td>102.206000</td>\n",
       "      <td>74649.000000</td>\n",
       "      <td>22.900000</td>\n",
       "      <td>101.600000</td>\n",
       "    </tr>\n",
       "  </tbody>\n",
       "</table>\n",
       "</div>"
      ],
      "text/plain": [
       "              Year  Nuclear Generating Units, Net Summer Capacity  \\\n",
       "count   614.000000                                     614.000000   \n",
       "mean   1998.084691                                      85.607122   \n",
       "std      14.782137                                      23.286221   \n",
       "min    1973.000000                                      14.533000   \n",
       "25%    1985.000000                                      78.707750   \n",
       "50%    1998.000000                                      98.533000   \n",
       "75%    2011.000000                                      99.628000   \n",
       "max    2024.000000                                     102.206000   \n",
       "\n",
       "       Nuclear Electricity Net Generation  \\\n",
       "count                          614.000000   \n",
       "mean                         49806.475570   \n",
       "std                          19647.098419   \n",
       "min                           5697.000000   \n",
       "25%                          31481.500000   \n",
       "50%                          57362.000000   \n",
       "75%                          65169.250000   \n",
       "max                          74649.000000   \n",
       "\n",
       "       Nuclear Share of Electricity Net Generation  \\\n",
       "count                                   614.000000   \n",
       "mean                                     17.216612   \n",
       "std                                       4.175843   \n",
       "min                                       3.900000   \n",
       "25%                                      15.525000   \n",
       "50%                                      18.800000   \n",
       "75%                                      20.100000   \n",
       "max                                      22.900000   \n",
       "\n",
       "       Nuclear Generating Units, Capacity Factor  \n",
       "count                                 614.000000  \n",
       "mean                                   76.496254  \n",
       "std                                    16.281111  \n",
       "min                                    34.600000  \n",
       "25%                                    61.025000  \n",
       "50%                                    79.150000  \n",
       "75%                                    91.875000  \n",
       "max                                   101.600000  "
      ]
     },
     "execution_count": 14,
     "metadata": {},
     "output_type": "execute_result"
    }
   ],
   "source": [
    "df.info()\n",
    "df.describe()"
   ]
  },
  {
   "cell_type": "code",
   "execution_count": 15,
   "id": "31ace091",
   "metadata": {},
   "outputs": [
    {
     "name": "stdout",
     "output_type": "stream",
     "text": [
      "Total duplicate rows: 0\n",
      "Empty DataFrame\n",
      "Columns: [Year, Month, Nuclear Generating Units, Total Operable Units, Nuclear Generating Units, Net Summer Capacity, Nuclear Electricity Net Generation, Nuclear Share of Electricity Net Generation, Nuclear Generating Units, Capacity Factor]\n",
      "Index: []\n"
     ]
    }
   ],
   "source": [
    "#Check for Duplicate Rows/ Values\n",
    "\n",
    "duplicate_rows = df[df.duplicated()]\n",
    "\n",
    "print(\"Total duplicate rows:\", duplicate_rows.shape[0])\n",
    "print(duplicate_rows)"
   ]
  },
  {
   "cell_type": "code",
   "execution_count": 16,
   "id": "465e6259",
   "metadata": {},
   "outputs": [
    {
     "name": "stdout",
     "output_type": "stream",
     "text": [
      "Mean of Each Column:\n",
      "Year                                              1998.084691\n",
      "Nuclear Generating Units, Net Summer Capacity       85.607122\n",
      "Nuclear Electricity Net Generation               49806.475570\n",
      "Nuclear Share of Electricity Net Generation         17.216612\n",
      "Nuclear Generating Units, Capacity Factor           76.496254\n",
      "dtype: float64\n",
      "Median of Each Column:\n",
      "Year                                              1998.000\n",
      "Nuclear Generating Units, Net Summer Capacity       98.533\n",
      "Nuclear Electricity Net Generation               57362.000\n",
      "Nuclear Share of Electricity Net Generation         18.800\n",
      "Nuclear Generating Units, Capacity Factor           79.150\n",
      "dtype: float64\n",
      "Mode of Each Column:\n",
      "    Year  Nuclear Generating Units, Net Summer Capacity  \\\n",
      "0   1973                                         49.747   \n",
      "1   1974                                            NaN   \n",
      "2   1975                                            NaN   \n",
      "3   1976                                            NaN   \n",
      "4   1977                                            NaN   \n",
      "5   1978                                            NaN   \n",
      "6   1979                                            NaN   \n",
      "7   1980                                            NaN   \n",
      "8   1981                                            NaN   \n",
      "9   1982                                            NaN   \n",
      "10  1983                                            NaN   \n",
      "11  1984                                            NaN   \n",
      "12  1985                                            NaN   \n",
      "13  1986                                            NaN   \n",
      "14  1987                                            NaN   \n",
      "15  1988                                            NaN   \n",
      "16  1989                                            NaN   \n",
      "17  1990                                            NaN   \n",
      "18  1991                                            NaN   \n",
      "19  1992                                            NaN   \n",
      "20  1993                                            NaN   \n",
      "21  1994                                            NaN   \n",
      "22  1995                                            NaN   \n",
      "23  1996                                            NaN   \n",
      "24  1997                                            NaN   \n",
      "25  1998                                            NaN   \n",
      "26  1999                                            NaN   \n",
      "27  2000                                            NaN   \n",
      "28  2001                                            NaN   \n",
      "29  2002                                            NaN   \n",
      "30  2003                                            NaN   \n",
      "31  2004                                            NaN   \n",
      "32  2005                                            NaN   \n",
      "33  2006                                            NaN   \n",
      "34  2007                                            NaN   \n",
      "35  2008                                            NaN   \n",
      "36  2009                                            NaN   \n",
      "37  2010                                            NaN   \n",
      "38  2011                                            NaN   \n",
      "39  2012                                            NaN   \n",
      "40  2013                                            NaN   \n",
      "41  2014                                            NaN   \n",
      "42  2015                                            NaN   \n",
      "43  2016                                            NaN   \n",
      "44  2017                                            NaN   \n",
      "45  2018                                            NaN   \n",
      "46  2019                                            NaN   \n",
      "47  2020                                            NaN   \n",
      "48  2021                                            NaN   \n",
      "49  2022                                            NaN   \n",
      "50  2023                                            NaN   \n",
      "\n",
      "    Nuclear Electricity Net Generation  \\\n",
      "0                              25007.0   \n",
      "1                              62820.0   \n",
      "2                              62947.0   \n",
      "3                              65140.0   \n",
      "4                                  NaN   \n",
      "5                                  NaN   \n",
      "6                                  NaN   \n",
      "7                                  NaN   \n",
      "8                                  NaN   \n",
      "9                                  NaN   \n",
      "10                                 NaN   \n",
      "11                                 NaN   \n",
      "12                                 NaN   \n",
      "13                                 NaN   \n",
      "14                                 NaN   \n",
      "15                                 NaN   \n",
      "16                                 NaN   \n",
      "17                                 NaN   \n",
      "18                                 NaN   \n",
      "19                                 NaN   \n",
      "20                                 NaN   \n",
      "21                                 NaN   \n",
      "22                                 NaN   \n",
      "23                                 NaN   \n",
      "24                                 NaN   \n",
      "25                                 NaN   \n",
      "26                                 NaN   \n",
      "27                                 NaN   \n",
      "28                                 NaN   \n",
      "29                                 NaN   \n",
      "30                                 NaN   \n",
      "31                                 NaN   \n",
      "32                                 NaN   \n",
      "33                                 NaN   \n",
      "34                                 NaN   \n",
      "35                                 NaN   \n",
      "36                                 NaN   \n",
      "37                                 NaN   \n",
      "38                                 NaN   \n",
      "39                                 NaN   \n",
      "40                                 NaN   \n",
      "41                                 NaN   \n",
      "42                                 NaN   \n",
      "43                                 NaN   \n",
      "44                                 NaN   \n",
      "45                                 NaN   \n",
      "46                                 NaN   \n",
      "47                                 NaN   \n",
      "48                                 NaN   \n",
      "49                                 NaN   \n",
      "50                                 NaN   \n",
      "\n",
      "    Nuclear Share of Electricity Net Generation  \\\n",
      "0                                          20.5   \n",
      "1                                           NaN   \n",
      "2                                           NaN   \n",
      "3                                           NaN   \n",
      "4                                           NaN   \n",
      "5                                           NaN   \n",
      "6                                           NaN   \n",
      "7                                           NaN   \n",
      "8                                           NaN   \n",
      "9                                           NaN   \n",
      "10                                          NaN   \n",
      "11                                          NaN   \n",
      "12                                          NaN   \n",
      "13                                          NaN   \n",
      "14                                          NaN   \n",
      "15                                          NaN   \n",
      "16                                          NaN   \n",
      "17                                          NaN   \n",
      "18                                          NaN   \n",
      "19                                          NaN   \n",
      "20                                          NaN   \n",
      "21                                          NaN   \n",
      "22                                          NaN   \n",
      "23                                          NaN   \n",
      "24                                          NaN   \n",
      "25                                          NaN   \n",
      "26                                          NaN   \n",
      "27                                          NaN   \n",
      "28                                          NaN   \n",
      "29                                          NaN   \n",
      "30                                          NaN   \n",
      "31                                          NaN   \n",
      "32                                          NaN   \n",
      "33                                          NaN   \n",
      "34                                          NaN   \n",
      "35                                          NaN   \n",
      "36                                          NaN   \n",
      "37                                          NaN   \n",
      "38                                          NaN   \n",
      "39                                          NaN   \n",
      "40                                          NaN   \n",
      "41                                          NaN   \n",
      "42                                          NaN   \n",
      "43                                          NaN   \n",
      "44                                          NaN   \n",
      "45                                          NaN   \n",
      "46                                          NaN   \n",
      "47                                          NaN   \n",
      "48                                          NaN   \n",
      "49                                          NaN   \n",
      "50                                          NaN   \n",
      "\n",
      "    Nuclear Generating Units, Capacity Factor  \n",
      "0                                        96.4  \n",
      "1                                        96.7  \n",
      "2                                         NaN  \n",
      "3                                         NaN  \n",
      "4                                         NaN  \n",
      "5                                         NaN  \n",
      "6                                         NaN  \n",
      "7                                         NaN  \n",
      "8                                         NaN  \n",
      "9                                         NaN  \n",
      "10                                        NaN  \n",
      "11                                        NaN  \n",
      "12                                        NaN  \n",
      "13                                        NaN  \n",
      "14                                        NaN  \n",
      "15                                        NaN  \n",
      "16                                        NaN  \n",
      "17                                        NaN  \n",
      "18                                        NaN  \n",
      "19                                        NaN  \n",
      "20                                        NaN  \n",
      "21                                        NaN  \n",
      "22                                        NaN  \n",
      "23                                        NaN  \n",
      "24                                        NaN  \n",
      "25                                        NaN  \n",
      "26                                        NaN  \n",
      "27                                        NaN  \n",
      "28                                        NaN  \n",
      "29                                        NaN  \n",
      "30                                        NaN  \n",
      "31                                        NaN  \n",
      "32                                        NaN  \n",
      "33                                        NaN  \n",
      "34                                        NaN  \n",
      "35                                        NaN  \n",
      "36                                        NaN  \n",
      "37                                        NaN  \n",
      "38                                        NaN  \n",
      "39                                        NaN  \n",
      "40                                        NaN  \n",
      "41                                        NaN  \n",
      "42                                        NaN  \n",
      "43                                        NaN  \n",
      "44                                        NaN  \n",
      "45                                        NaN  \n",
      "46                                        NaN  \n",
      "47                                        NaN  \n",
      "48                                        NaN  \n",
      "49                                        NaN  \n",
      "50                                        NaN  \n"
     ]
    }
   ],
   "source": [
    "#Mean, Median, Mode\n",
    "\n",
    "print(\"Mean of Each Column:\")\n",
    "print(df.mean(numeric_only=True))\n",
    "\n",
    "print(\"Median of Each Column:\")\n",
    "print(df.median(numeric_only=True))\n",
    "\n",
    "print(\"Mode of Each Column:\")\n",
    "print(df.mode(numeric_only=True))"
   ]
  },
  {
   "cell_type": "code",
   "execution_count": 17,
   "id": "0d5a07fd",
   "metadata": {},
   "outputs": [
    {
     "name": "stdout",
     "output_type": "stream",
     "text": [
      "Year                                              0\n",
      "Month                                             0\n",
      "Nuclear Generating Units, Total Operable Units    0\n",
      "Nuclear Generating Units, Net Summer Capacity     0\n",
      "Nuclear Electricity Net Generation                0\n",
      "Nuclear Share of Electricity Net Generation       0\n",
      "Nuclear Generating Units, Capacity Factor         0\n",
      "dtype: int64\n",
      "Empty DataFrame\n",
      "Columns: [Year, Month, Nuclear Generating Units, Total Operable Units, Nuclear Generating Units, Net Summer Capacity, Nuclear Electricity Net Generation, Nuclear Share of Electricity Net Generation, Nuclear Generating Units, Capacity Factor]\n",
      "Index: []\n"
     ]
    }
   ],
   "source": [
    "#Check for Null Values in Each Column\n",
    "print(df.isnull().sum())\n",
    "\n",
    "#Rows with at Least One Missing Value\n",
    "print(df[df.isnull().any(axis=1)])\n",
    "\n",
    "#Replace Nulls in All Numeric Columns with Respective Mean\n",
    "df.fillna(df.mean(numeric_only=True), inplace=True)"
   ]
  },
  {
   "cell_type": "code",
   "execution_count": 18,
   "id": "76df306a",
   "metadata": {},
   "outputs": [
    {
     "name": "stdout",
     "output_type": "stream",
     "text": [
      "['Year', 'Month', 'Nuclear Generating Units, Total Operable Units', 'Nuclear Generating Units, Net Summer Capacity', 'Nuclear Electricity Net Generation', 'Nuclear Share of Electricity Net Generation', 'Nuclear Generating Units, Capacity Factor']\n"
     ]
    }
   ],
   "source": [
    "print(df.columns.tolist())"
   ]
  },
  {
   "cell_type": "code",
   "execution_count": 19,
   "id": "1b4ccf4e",
   "metadata": {},
   "outputs": [
    {
     "name": "stdout",
     "output_type": "stream",
     "text": [
      "Maximum Values per Column:\n",
      "Year                                              2024.000\n",
      "Nuclear Generating Units, Net Summer Capacity      102.206\n",
      "Nuclear Electricity Net Generation               74649.000\n",
      "Nuclear Share of Electricity Net Generation         22.900\n",
      "Nuclear Generating Units, Capacity Factor          101.600\n",
      "dtype: float64\n",
      "\n",
      "Minimum Values per Column:\n",
      "Year                                             1973.000\n",
      "Nuclear Generating Units, Net Summer Capacity      14.533\n",
      "Nuclear Electricity Net Generation               5697.000\n",
      "Nuclear Share of Electricity Net Generation         3.900\n",
      "Nuclear Generating Units, Capacity Factor          34.600\n",
      "dtype: float64\n"
     ]
    }
   ],
   "source": [
    "#Maximum Values\n",
    "print(\"Maximum Values per Column:\")\n",
    "print(df.max(numeric_only=True))\n",
    "\n",
    "# Minimum Values\n",
    "print(\"\\nMinimum Values per Column:\")\n",
    "print(df.min(numeric_only=True))"
   ]
  },
  {
   "cell_type": "code",
   "execution_count": 20,
   "id": "248e33d9",
   "metadata": {},
   "outputs": [
    {
     "name": "stdout",
     "output_type": "stream",
     "text": [
      "Column Data Types:\n",
      "Year                                                int64\n",
      "Month                                              object\n",
      "Nuclear Generating Units, Total Operable Units     object\n",
      "Nuclear Generating Units, Net Summer Capacity     float64\n",
      "Nuclear Electricity Net Generation                  int64\n",
      "Nuclear Share of Electricity Net Generation       float64\n",
      "Nuclear Generating Units, Capacity Factor         float64\n",
      "dtype: object\n",
      "\n"
     ]
    }
   ],
   "source": [
    "print(\"Column Data Types:\")\n",
    "print(df.dtypes)\n",
    "print()"
   ]
  },
  {
   "cell_type": "code",
   "execution_count": 21,
   "id": "70701930",
   "metadata": {},
   "outputs": [
    {
     "name": "stdout",
     "output_type": "stream",
     "text": [
      "Index(['Month', 'Nuclear Generating Units, Total Operable Units'], dtype='object')\n"
     ]
    }
   ],
   "source": [
    "#Isolate Categorical Columns\n",
    "print(df.select_dtypes(include='object').columns)"
   ]
  },
  {
   "cell_type": "code",
   "execution_count": 22,
   "id": "63e2d0d6",
   "metadata": {},
   "outputs": [],
   "source": [
    "#One-Hot Encoding for Categorical Variables\n",
    "df_encoded = pd.get_dummies(df, drop_first=True)"
   ]
  },
  {
   "cell_type": "code",
   "execution_count": 23,
   "id": "d1e54f26",
   "metadata": {},
   "outputs": [
    {
     "name": "stdout",
     "output_type": "stream",
     "text": [
      "   bin_start  bin_end  count\n",
      "0     5697.0  12592.2     25\n",
      "1    12592.2  19487.4     33\n",
      "2    19487.4  26382.6     77\n",
      "3    26382.6  33277.8     21\n",
      "4    33277.8  40173.0     29\n",
      "5    40173.0  47068.2     34\n",
      "6    47068.2  53963.4     46\n",
      "7    53963.4  60858.6     90\n",
      "8    60858.6  67753.8    152\n",
      "9    67753.8  74649.0    106\n"
     ]
    }
   ],
   "source": [
    "#Histogram Table for 'Nuclear Electricity Net Generation'\n",
    "\n",
    "column = 'Nuclear Electricity Net Generation'\n",
    "\n",
    "data = df[column].dropna()\n",
    "\n",
    "num_bins = 10\n",
    "\n",
    "bins = np.linspace(data.min(), data.max(), num_bins + 1)\n",
    "\n",
    "bin_indices = np.digitize(data, bins, right=False)\n",
    "\n",
    "bin_counts = pd.Series(bin_indices).value_counts().reindex(range(1, num_bins+1), fill_value=0).sort_index()\n",
    "\n",
    "histogram_table = pd.DataFrame({\n",
    "    'bin_start': bins[:-1],\n",
    "    'bin_end': bins[1:],\n",
    "    'count': bin_counts.values\n",
    "})\n",
    "\n",
    "print(histogram_table)"
   ]
  },
  {
   "cell_type": "code",
   "execution_count": 24,
   "id": "78f73150",
   "metadata": {},
   "outputs": [
    {
     "data": {
      "image/png": "[encoded data removed]",
      "text/plain": [
       "<Figure size 1000x600 with 1 Axes>"
      ]
     },
     "metadata": {},
     "output_type": "display_data"
    }
   ],
   "source": [
    "bin_labels = [f\"{start:.1f} - {end:.1f}\" for start, end in zip(histogram_table['bin_start'], histogram_table['bin_end'])]\n",
    "\n",
    "plt.figure(figsize=(10,6))\n",
    "plt.bar(bin_labels, histogram_table['count'], color='skyblue', edgecolor='black')\n",
    "\n",
    "plt.title(f'Histogram of {column}')\n",
    "plt.xlabel('Value Range')\n",
    "plt.ylabel('Count')\n",
    "plt.xticks(rotation=45)  # rotate labels for readability\n",
    "plt.grid(axis='y', linestyle='--', alpha=0.7)\n",
    "\n",
    "plt.tight_layout()\n",
    "plt.show()"
   ]
  },
  {
   "cell_type": "code",
   "execution_count": 25,
   "id": "97cbbc8b",
   "metadata": {},
   "outputs": [],
   "source": [
    "Conclusion_Response = 'This data is certainly usable.'\n",
    "Take_Away_1 = 'Nuclear electricity generation is concentrated mostly at low levels for most countries/data points.'\n",
    "Take_Away_2 = 'A small number of countries generate very high amounts; pulls the distribution’s tail to the right.'\n",
    "Take_Away_3 = 'A typical pattern in energy generation data where a few countries dominate production.'"
   ]
  },
  {
   "cell_type": "markdown",
   "id": "abab9e6d-18cc-4863-b980-3e52f581763a",
   "metadata": {},
   "source": [
    "# 4. Storytelling With Data graph"
   ]
  },
  {
   "cell_type": "markdown",
   "id": "1911148d-9df6-4b33-a875-8c96408ec834",
   "metadata": {},
   "source": [
    "Just like last week: choose any graph in the Introduction of Storytelling With Data. Use matplotlib to reproduce it in a rough way. I don't expect you to spend an enormous amount of time on this; I understand that you likely will not have time to re-create every feature of the graph. However, if you're excited about learning to use matplotlib, this is a good way to do that. You don't have to duplicate the exact values on the graph; just the same rough shape will be enough.  If you don't feel comfortable using matplotlib yet, do the best you can and write down what you tried or what Google searches you did to find the answers."
   ]
  },
  {
   "cell_type": "code",
   "execution_count": 26,
   "id": "701c83db",
   "metadata": {},
   "outputs": [],
   "source": [
    "import matplotlib.pyplot as plt"
   ]
  },
  {
   "cell_type": "code",
   "execution_count": 27,
   "id": "8b2888f9-3700-45ab-9829-6a5372106f9f",
   "metadata": {},
   "outputs": [
    {
     "name": "stdout",
     "output_type": "stream",
     "text": [
      "    Year    Product  Price\n",
      "0   2018  Product A  18.75\n",
      "1   2019  Product A  24.51\n",
      "2   2020  Product A  22.32\n",
      "3   2021  Product A  20.99\n",
      "4   2022  Product A  16.56\n",
      "5   2018  Product B  16.56\n",
      "6   2019  Product B  15.58\n",
      "7   2020  Product B  23.66\n",
      "8   2021  Product B  21.01\n",
      "9   2022  Product B  22.08\n",
      "10  2018  Product C  15.21\n",
      "11  2019  Product C  24.70\n",
      "12  2020  Product C  23.32\n",
      "13  2021  Product C  17.12\n",
      "14  2022  Product C  16.82\n",
      "15  2018  Product D  16.83\n",
      "16  2019  Product D  18.04\n",
      "17  2020  Product D  20.25\n",
      "18  2021  Product D  19.32\n",
      "19  2022  Product D  17.91\n",
      "20  2018  Product E  21.12\n",
      "21  2019  Product E  16.39\n",
      "22  2020  Product E  17.92\n",
      "23  2021  Product E  18.66\n",
      "24  2022  Product E  19.56\n"
     ]
    }
   ],
   "source": [
    "#Create DataFrame with Random Samples - Average Retail Price per Year of Products A, B, C, D\n",
    "\n",
    "products = ['Product A', 'Product B', 'Product C', 'Product D', 'Product E']\n",
    "years = list(range(2018, 2023))\n",
    "\n",
    "# Generate Random Price Data\n",
    "np.random.seed(42)\n",
    "data = {\n",
    "    'Year': [],\n",
    "    'Product': [],\n",
    "    'Price': []\n",
    "}\n",
    "\n",
    "for product in products:\n",
    "    prices = np.random.uniform(15, 25, size=len(years)).round(2)\n",
    "    for year, price in zip(years, prices):\n",
    "        data['Year'].append(year)\n",
    "        data['Product'].append(product)\n",
    "        data['Price'].append(price)\n",
    "\n",
    "# Create DataFrame\n",
    "df = pd.DataFrame(data)\n",
    "print(df)"
   ]
  },
  {
   "cell_type": "code",
   "execution_count": 28,
   "id": "b603db0a",
   "metadata": {},
   "outputs": [
    {
     "data": {
      "image/png": "[encoded data removed]",
      "text/plain": [
       "<Figure size 1000x600 with 1 Axes>"
      ]
     },
     "metadata": {},
     "output_type": "display_data"
    }
   ],
   "source": [
    "pivot_df = df.pivot_table(index='Year', columns='Product', values='Price', aggfunc='mean')\n",
    "\n",
    "products = pivot_df.columns\n",
    "years = pivot_df.index\n",
    "num_products = len(products)\n",
    "x = np.arange(len(years))\n",
    "width = 0.8 / num_products\n",
    "\n",
    "fig, ax = plt.subplots(figsize=(10, 6))\n",
    "\n",
    "for i, product in enumerate(products):\n",
    "    ax.bar(x + i * width, pivot_df[product], width, label=product)\n",
    "\n",
    "ax.set_title('Average Retail Product Price per Year', fontsize=16, weight='bold')\n",
    "ax.set_xlabel('Year', fontsize=12)\n",
    "ax.set_ylabel('Price ($)', fontsize=12)\n",
    "ax.set_xticks(x + width * (num_products - 1) / 2)\n",
    "ax.set_xticklabels(years)\n",
    "ax.grid(axis='y', linestyle='--', alpha=0.7)\n",
    "ax.set_facecolor('white')\n",
    "\n",
    "ax.set_ylim(0, pivot_df.max().max() + 5)\n",
    "\n",
    "ax.legend(title='Product', bbox_to_anchor=(1.05, 1), loc='upper left')\n",
    "\n",
    "fig.tight_layout()\n",
    "plt.show()"
   ]
  }
 ],
 "metadata": {
  "kernelspec": {
   "display_name": "Python 3",
   "language": "python",
   "name": "python3"
  },
  "language_info": {
   "codemirror_mode": {
    "name": "ipython",
    "version": 3
   },
   "file_extension": ".py",
   "mimetype": "text/x-python",
   "name": "python",
   "nbconvert_exporter": "python",
   "pygments_lexer": "ipython3",
   "version": "3.13.3"
  }
 },
 "nbformat": 4,
 "nbformat_minor": 5
}
